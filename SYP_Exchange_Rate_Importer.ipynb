{
  "nbformat": 4,
  "nbformat_minor": 0,
  "metadata": {
    "colab": {
      "name": "SYP Exchange Rate Importer.ipynb",
      "provenance": [],
      "collapsed_sections": [],
      "authorship_tag": "ABX9TyP6lCHXNH7kwz1oGpTfz/w9",
      "include_colab_link": true
    },
    "kernelspec": {
      "name": "ir",
      "display_name": "R"
    }
  },
  "cells": [
    {
      "cell_type": "markdown",
      "metadata": {
        "id": "view-in-github",
        "colab_type": "text"
      },
      "source": [
        "<a href=\"https://colab.research.google.com/github/SamerHasn/Coursera-R-Programming-Assignments-/blob/main/SYP_Exchange_Rate_Importer.ipynb\" target=\"_parent\"><img src=\"https://colab.research.google.com/assets/colab-badge.svg\" alt=\"Open In Colab\"/></a>"
      ]
    },
    {
      "cell_type": "markdown",
      "metadata": {
        "id": "A60v7dDob_xS"
      },
      "source": [
        "The following R code exports an organized comma-separated values (csv) file, containing a time series of Syrian pound exchange rates (closing rates) against U.S. dollar, from February of 2015 to the last recoded closing rate. The orginal provider of the data is [sp-today.com](https://sp-today.com/). The data has a lot of **missing values**, and may or may not exactly represent the real exchange rates in the Syrian market."
      ]
    },
    {
      "cell_type": "markdown",
      "metadata": {
        "id": "PDfSePtEhics"
      },
      "source": [
        "**1. Installing required package**\n",
        "\n",
        "If you are running this code for the first time; run the following cell just for once to install two required R packages. You have to rerun this cell every 12 hours, as your Colab disk is cleand up automatically."
      ]
    },
    {
      "cell_type": "code",
      "metadata": {
        "id": "UACmgd4nTjh8"
      },
      "source": [
        "install.packages(\"rjson\")"
      ],
      "execution_count": null,
      "outputs": []
    },
    {
      "cell_type": "markdown",
      "metadata": {
        "id": "6XEjwbvlb-un"
      },
      "source": [
        "**2. Exporting Data**\n",
        "\n",
        "To get SYP/USD rates; run the following cell. The data will be saved in the *syp_usd.csv* file in your Colab files storage. Click on the file icon at the left side here and scroll down to get the file, then you can download the file to your device easily."
      ]
    },
    {
      "cell_type": "code",
      "metadata": {
        "id": "o116SOXaavlO"
      },
      "source": [
        "usd <- rjson::fromJSON(file = \n",
        "                         \"https://sp-today.com/past/currency/damascus/usd.json\")\n",
        "\n",
        "usd <- data.frame(do.call(rbind, usd))\n",
        "names(usd) <- c(\"Date\", \"Rate\")\n",
        "usd$Date <- as.Date.POSIXct(usd$Date/1000)\n",
        "write.csv(usd, \"syp_usd.csv\", row.names = F)\n",
        "\n",
        "print(tail(usd))"
      ],
      "execution_count": null,
      "outputs": []
    },
    {
      "cell_type": "markdown",
      "metadata": {
        "id": "jaEgKuyEmsLH"
      },
      "source": [
        "You can rerun the last cells to update your data. Contact me for any question.\n",
        "\n",
        "Samer Hasn \n",
        "\n",
        "LinkedIn: [@samerhasn](https://www.linkedin.com/in/samerhasn/)"
      ]
    }
  ]
}